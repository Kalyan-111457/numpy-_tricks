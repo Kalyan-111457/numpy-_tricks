{
  "nbformat": 4,
  "nbformat_minor": 0,
  "metadata": {
    "colab": {
      "provenance": []
    },
    "kernelspec": {
      "name": "python3",
      "display_name": "Python 3"
    },
    "language_info": {
      "name": "python"
    }
  },
  "cells": [
    {
      "cell_type": "code",
      "execution_count": 32,
      "metadata": {
        "id": "Ipm1k3_Iybzr"
      },
      "outputs": [],
      "source": [
        "import pandas as pd\n",
        "import numpy as np\n",
        "import matplotlib.pyplot as plt\n",
        "from sklearn.preprocessing import LabelEncoder,MinMaxScaler\n",
        "from sklearn.model_selection import train_test_split\n",
        "from sklearn.linear_model  import LogisticRegression\n",
        "from sklearn.metrics import accuracy_score\n",
        "from keras.layers import LSTM,Dense,Dropout\n",
        "from keras.models import Sequential"
      ]
    },
    {
      "cell_type": "code",
      "source": [
        "k=pd.read_csv(r\"/content/stock_prices.csv\")\n",
        "print(k)"
      ],
      "metadata": {
        "colab": {
          "base_uri": "https://localhost:8080/"
        },
        "id": "QwG5j_ggzy3q",
        "outputId": "4e6cd8ed-edbf-4ac7-a70d-48048aee9dab"
      },
      "execution_count": 14,
      "outputs": [
        {
          "output_type": "stream",
          "name": "stdout",
          "text": [
            "           Date       Close\n",
            "0    2022-01-01  122.103338\n",
            "1    2022-01-02   91.196124\n",
            "2    2022-01-03  156.762160\n",
            "3    2022-01-04  134.254688\n",
            "4    2022-01-05  153.043709\n",
            "..          ...         ...\n",
            "360  2022-12-27  132.522630\n",
            "361  2022-12-28  187.594322\n",
            "362  2022-12-29  161.268416\n",
            "363  2022-12-30   86.049856\n",
            "364  2022-12-31  161.197317\n",
            "\n",
            "[365 rows x 2 columns]\n"
          ]
        }
      ]
    },
    {
      "cell_type": "code",
      "source": [
        "k.shape"
      ],
      "metadata": {
        "colab": {
          "base_uri": "https://localhost:8080/"
        },
        "id": "N_u3ODBV0sEE",
        "outputId": "041a4848-f02f-4b19-f116-8301a853ed00"
      },
      "execution_count": 6,
      "outputs": [
        {
          "output_type": "execute_result",
          "data": {
            "text/plain": [
              "(365, 2)"
            ]
          },
          "metadata": {},
          "execution_count": 6
        }
      ]
    },
    {
      "cell_type": "code",
      "source": [
        "k.head(5)"
      ],
      "metadata": {
        "colab": {
          "base_uri": "https://localhost:8080/",
          "height": 206
        },
        "id": "VWmNl2RH0wr9",
        "outputId": "8c9e8598-e487-4a0b-8900-1c758daaa87a"
      },
      "execution_count": 15,
      "outputs": [
        {
          "output_type": "execute_result",
          "data": {
            "text/plain": [
              "         Date       Close\n",
              "0  2022-01-01  122.103338\n",
              "1  2022-01-02   91.196124\n",
              "2  2022-01-03  156.762160\n",
              "3  2022-01-04  134.254688\n",
              "4  2022-01-05  153.043709"
            ],
            "text/html": [
              "\n",
              "  <div id=\"df-054496eb-888e-4045-b0b7-9a23e377bd81\">\n",
              "    <div class=\"colab-df-container\">\n",
              "      <div>\n",
              "<style scoped>\n",
              "    .dataframe tbody tr th:only-of-type {\n",
              "        vertical-align: middle;\n",
              "    }\n",
              "\n",
              "    .dataframe tbody tr th {\n",
              "        vertical-align: top;\n",
              "    }\n",
              "\n",
              "    .dataframe thead th {\n",
              "        text-align: right;\n",
              "    }\n",
              "</style>\n",
              "<table border=\"1\" class=\"dataframe\">\n",
              "  <thead>\n",
              "    <tr style=\"text-align: right;\">\n",
              "      <th></th>\n",
              "      <th>Date</th>\n",
              "      <th>Close</th>\n",
              "    </tr>\n",
              "  </thead>\n",
              "  <tbody>\n",
              "    <tr>\n",
              "      <th>0</th>\n",
              "      <td>2022-01-01</td>\n",
              "      <td>122.103338</td>\n",
              "    </tr>\n",
              "    <tr>\n",
              "      <th>1</th>\n",
              "      <td>2022-01-02</td>\n",
              "      <td>91.196124</td>\n",
              "    </tr>\n",
              "    <tr>\n",
              "      <th>2</th>\n",
              "      <td>2022-01-03</td>\n",
              "      <td>156.762160</td>\n",
              "    </tr>\n",
              "    <tr>\n",
              "      <th>3</th>\n",
              "      <td>2022-01-04</td>\n",
              "      <td>134.254688</td>\n",
              "    </tr>\n",
              "    <tr>\n",
              "      <th>4</th>\n",
              "      <td>2022-01-05</td>\n",
              "      <td>153.043709</td>\n",
              "    </tr>\n",
              "  </tbody>\n",
              "</table>\n",
              "</div>\n",
              "      <button class=\"colab-df-convert\" onclick=\"convertToInteractive('df-054496eb-888e-4045-b0b7-9a23e377bd81')\"\n",
              "              title=\"Convert this dataframe to an interactive table.\"\n",
              "              style=\"display:none;\">\n",
              "        \n",
              "  <svg xmlns=\"http://www.w3.org/2000/svg\" height=\"24px\"viewBox=\"0 0 24 24\"\n",
              "       width=\"24px\">\n",
              "    <path d=\"M0 0h24v24H0V0z\" fill=\"none\"/>\n",
              "    <path d=\"M18.56 5.44l.94 2.06.94-2.06 2.06-.94-2.06-.94-.94-2.06-.94 2.06-2.06.94zm-11 1L8.5 8.5l.94-2.06 2.06-.94-2.06-.94L8.5 2.5l-.94 2.06-2.06.94zm10 10l.94 2.06.94-2.06 2.06-.94-2.06-.94-.94-2.06-.94 2.06-2.06.94z\"/><path d=\"M17.41 7.96l-1.37-1.37c-.4-.4-.92-.59-1.43-.59-.52 0-1.04.2-1.43.59L10.3 9.45l-7.72 7.72c-.78.78-.78 2.05 0 2.83L4 21.41c.39.39.9.59 1.41.59.51 0 1.02-.2 1.41-.59l7.78-7.78 2.81-2.81c.8-.78.8-2.07 0-2.86zM5.41 20L4 18.59l7.72-7.72 1.47 1.35L5.41 20z\"/>\n",
              "  </svg>\n",
              "      </button>\n",
              "      \n",
              "  <style>\n",
              "    .colab-df-container {\n",
              "      display:flex;\n",
              "      flex-wrap:wrap;\n",
              "      gap: 12px;\n",
              "    }\n",
              "\n",
              "    .colab-df-convert {\n",
              "      background-color: #E8F0FE;\n",
              "      border: none;\n",
              "      border-radius: 50%;\n",
              "      cursor: pointer;\n",
              "      display: none;\n",
              "      fill: #1967D2;\n",
              "      height: 32px;\n",
              "      padding: 0 0 0 0;\n",
              "      width: 32px;\n",
              "    }\n",
              "\n",
              "    .colab-df-convert:hover {\n",
              "      background-color: #E2EBFA;\n",
              "      box-shadow: 0px 1px 2px rgba(60, 64, 67, 0.3), 0px 1px 3px 1px rgba(60, 64, 67, 0.15);\n",
              "      fill: #174EA6;\n",
              "    }\n",
              "\n",
              "    [theme=dark] .colab-df-convert {\n",
              "      background-color: #3B4455;\n",
              "      fill: #D2E3FC;\n",
              "    }\n",
              "\n",
              "    [theme=dark] .colab-df-convert:hover {\n",
              "      background-color: #434B5C;\n",
              "      box-shadow: 0px 1px 3px 1px rgba(0, 0, 0, 0.15);\n",
              "      filter: drop-shadow(0px 1px 2px rgba(0, 0, 0, 0.3));\n",
              "      fill: #FFFFFF;\n",
              "    }\n",
              "  </style>\n",
              "\n",
              "      <script>\n",
              "        const buttonEl =\n",
              "          document.querySelector('#df-054496eb-888e-4045-b0b7-9a23e377bd81 button.colab-df-convert');\n",
              "        buttonEl.style.display =\n",
              "          google.colab.kernel.accessAllowed ? 'block' : 'none';\n",
              "\n",
              "        async function convertToInteractive(key) {\n",
              "          const element = document.querySelector('#df-054496eb-888e-4045-b0b7-9a23e377bd81');\n",
              "          const dataTable =\n",
              "            await google.colab.kernel.invokeFunction('convertToInteractive',\n",
              "                                                     [key], {});\n",
              "          if (!dataTable) return;\n",
              "\n",
              "          const docLinkHtml = 'Like what you see? Visit the ' +\n",
              "            '<a target=\"_blank\" href=https://colab.research.google.com/notebooks/data_table.ipynb>data table notebook</a>'\n",
              "            + ' to learn more about interactive tables.';\n",
              "          element.innerHTML = '';\n",
              "          dataTable['output_type'] = 'display_data';\n",
              "          await google.colab.output.renderOutput(dataTable, element);\n",
              "          const docLink = document.createElement('div');\n",
              "          docLink.innerHTML = docLinkHtml;\n",
              "          element.appendChild(docLink);\n",
              "        }\n",
              "      </script>\n",
              "    </div>\n",
              "  </div>\n",
              "  "
            ]
          },
          "metadata": {},
          "execution_count": 15
        }
      ]
    },
    {
      "cell_type": "code",
      "source": [
        "k.dtypes"
      ],
      "metadata": {
        "colab": {
          "base_uri": "https://localhost:8080/"
        },
        "id": "afRizd6200TD",
        "outputId": "00c7bef3-ae74-4aa5-a5de-6b211794a9e7"
      },
      "execution_count": 16,
      "outputs": [
        {
          "output_type": "execute_result",
          "data": {
            "text/plain": [
              "Date      object\n",
              "Close    float64\n",
              "dtype: object"
            ]
          },
          "metadata": {},
          "execution_count": 16
        }
      ]
    },
    {
      "cell_type": "code",
      "source": [
        "prices=k[\"Close\"].values\n",
        "prices=prices.reshape(-1,1)"
      ],
      "metadata": {
        "colab": {
          "base_uri": "https://localhost:8080/"
        },
        "id": "rxN5kkmS03nZ",
        "outputId": "e8b266af-105e-4778-de46-e7403d1fb81b"
      },
      "execution_count": 19,
      "outputs": [
        {
          "output_type": "stream",
          "name": "stdout",
          "text": [
            "           Date       Close\n",
            "0    2022-01-01  122.103338\n",
            "1    2022-01-02   91.196124\n",
            "2    2022-01-03  156.762160\n",
            "3    2022-01-04  134.254688\n",
            "4    2022-01-05  153.043709\n",
            "..          ...         ...\n",
            "360  2022-12-27  132.522630\n",
            "361  2022-12-28  187.594322\n",
            "362  2022-12-29  161.268416\n",
            "363  2022-12-30   86.049856\n",
            "364  2022-12-31  161.197317\n",
            "\n",
            "[365 rows x 2 columns]\n"
          ]
        }
      ]
    },
    {
      "cell_type": "code",
      "source": [
        "#normalisize the data by using min max scaler"
      ],
      "metadata": {
        "id": "ikDtnSEp1npW"
      },
      "execution_count": null,
      "outputs": []
    },
    {
      "cell_type": "code",
      "source": [
        "scaler=MinMaxScaler(feature_range=(0,1))\n",
        "scaled_prices=scaler.fit_transform(prices)"
      ],
      "metadata": {
        "id": "AkixMZUh1OHT"
      },
      "execution_count": 22,
      "outputs": []
    },
    {
      "cell_type": "code",
      "source": [
        "print(scaler)\n",
        "print(scaled_prices)"
      ],
      "metadata": {
        "colab": {
          "base_uri": "https://localhost:8080/"
        },
        "id": "SOGeP0wX1Rgd",
        "outputId": "4c0ee05f-a9e9-41f0-81cd-cb460d37dcfd"
      },
      "execution_count": 23,
      "outputs": [
        {
          "output_type": "stream",
          "name": "stdout",
          "text": [
            "MinMaxScaler()\n",
            "[[4.80617626e-01]\n",
            " [2.73820770e-01]\n",
            " [7.12516081e-01]\n",
            " [5.61921001e-01]\n",
            " [6.87636327e-01]\n",
            " [4.08699893e-01]\n",
            " [4.81744634e-01]\n",
            " [4.18232032e-01]\n",
            " [7.62752919e-02]\n",
            " [9.35803187e-02]\n",
            " [5.19274642e-01]\n",
            " [5.03944694e-01]\n",
            " [8.45704046e-01]\n",
            " [3.90216953e-01]\n",
            " [1.00000000e+00]\n",
            " [2.91097696e-01]\n",
            " [4.83093025e-01]\n",
            " [3.99551057e-01]\n",
            " [7.70589581e-01]\n",
            " [7.80817075e-01]\n",
            " [6.17993872e-02]\n",
            " [2.80925724e-01]\n",
            " [9.27277084e-01]\n",
            " [4.39961050e-01]\n",
            " [4.18192520e-01]\n",
            " [9.75696335e-01]\n",
            " [2.18258916e-02]\n",
            " [2.55334147e-01]\n",
            " [1.43248530e-02]\n",
            " [3.42487566e-01]\n",
            " [9.80708304e-01]\n",
            " [9.75961447e-01]\n",
            " [2.66918979e-01]\n",
            " [2.83423123e-01]\n",
            " [4.49590826e-01]\n",
            " [2.51879081e-01]\n",
            " [6.21320287e-01]\n",
            " [9.46128890e-01]\n",
            " [6.65710582e-01]\n",
            " [6.42952362e-01]\n",
            " [3.73059794e-01]\n",
            " [6.43399216e-01]\n",
            " [3.20741377e-01]\n",
            " [5.68018641e-01]\n",
            " [3.42665958e-04]\n",
            " [6.73903309e-01]\n",
            " [7.31093718e-01]\n",
            " [9.00002921e-01]\n",
            " [4.13283473e-01]\n",
            " [8.50733769e-01]\n",
            " [9.57186051e-02]\n",
            " [3.91194842e-01]\n",
            " [4.05727138e-03]\n",
            " [2.87158270e-01]\n",
            " [5.17027256e-01]\n",
            " [2.16559041e-01]\n",
            " [2.92634329e-01]\n",
            " [7.14344000e-01]\n",
            " [2.76410467e-01]\n",
            " [1.76512383e-01]\n",
            " [9.63439987e-01]\n",
            " [7.99630130e-01]\n",
            " [9.48004276e-01]\n",
            " [8.24408537e-01]\n",
            " [1.60384992e-01]\n",
            " [6.50290835e-01]\n",
            " [7.37752551e-01]\n",
            " [4.87478069e-01]\n",
            " [5.83606371e-01]\n",
            " [4.52425120e-01]\n",
            " [1.25661103e-01]\n",
            " [2.52673734e-01]\n",
            " [9.33507925e-01]\n",
            " [4.27649618e-01]\n",
            " [9.08043650e-01]\n",
            " [7.14563893e-01]\n",
            " [4.65714883e-01]\n",
            " [5.64211649e-01]\n",
            " [3.00282567e-01]\n",
            " [5.91023595e-01]\n",
            " [2.26162849e-01]\n",
            " [3.25835701e-01]\n",
            " [4.31161774e-01]\n",
            " [5.31844464e-01]\n",
            " [7.69299446e-01]\n",
            " [2.84733234e-01]\n",
            " [9.92693043e-01]\n",
            " [3.59454285e-01]\n",
            " [3.01651277e-01]\n",
            " [7.78480575e-01]\n",
            " [3.71675040e-01]\n",
            " [8.75533906e-01]\n",
            " [5.69281680e-02]\n",
            " [3.61526244e-01]\n",
            " [8.12346292e-01]\n",
            " [2.86563595e-01]\n",
            " [6.29989732e-01]\n",
            " [3.89682887e-01]\n",
            " [9.32458400e-01]\n",
            " [7.70755459e-01]\n",
            " [9.05727360e-01]\n",
            " [1.86992701e-01]\n",
            " [9.78298062e-01]\n",
            " [9.61078160e-01]\n",
            " [9.44336136e-02]\n",
            " [8.83419282e-01]\n",
            " [8.15521546e-01]\n",
            " [9.87309821e-01]\n",
            " [1.25518337e-01]\n",
            " [8.62552708e-01]\n",
            " [2.80592791e-01]\n",
            " [9.85417070e-01]\n",
            " [2.31441534e-01]\n",
            " [3.51164663e-01]\n",
            " [1.27575586e-01]\n",
            " [4.15446486e-01]\n",
            " [3.76543797e-01]\n",
            " [4.84156660e-01]\n",
            " [4.92409770e-03]\n",
            " [3.91918950e-02]\n",
            " [1.24818931e-01]\n",
            " [6.56475559e-01]\n",
            " [5.83377747e-01]\n",
            " [8.97977065e-01]\n",
            " [1.83192542e-01]\n",
            " [4.08346307e-02]\n",
            " [4.84294897e-01]\n",
            " [4.64052989e-01]\n",
            " [1.18450393e-01]\n",
            " [9.93029820e-01]\n",
            " [3.62662844e-01]\n",
            " [9.52519791e-01]\n",
            " [6.54906492e-02]\n",
            " [8.97197512e-01]\n",
            " [3.31041937e-01]\n",
            " [6.72717341e-01]\n",
            " [7.50987071e-01]\n",
            " [8.11105937e-01]\n",
            " [2.04824332e-01]\n",
            " [2.06827819e-02]\n",
            " [1.10548754e-01]\n",
            " [1.85258828e-01]\n",
            " [6.38451741e-01]\n",
            " [9.59489432e-01]\n",
            " [0.00000000e+00]\n",
            " [8.98382742e-01]\n",
            " [1.65169160e-01]\n",
            " [1.64613889e-01]\n",
            " [9.29680101e-02]\n",
            " [1.67622160e-01]\n",
            " [3.74025600e-01]\n",
            " [1.37092907e-01]\n",
            " [4.96433491e-02]\n",
            " [2.88243329e-01]\n",
            " [2.10563192e-01]\n",
            " [8.62618674e-01]\n",
            " [7.10159854e-01]\n",
            " [8.57873051e-01]\n",
            " [9.56736733e-01]\n",
            " [9.84922774e-02]\n",
            " [5.88954601e-01]\n",
            " [6.63433203e-01]\n",
            " [1.86670699e-01]\n",
            " [3.24434741e-01]\n",
            " [8.32675453e-01]\n",
            " [5.43247470e-01]\n",
            " [3.97254536e-01]\n",
            " [3.51937888e-01]\n",
            " [2.64603363e-01]\n",
            " [4.88355681e-01]\n",
            " [7.68880808e-01]\n",
            " [7.24481277e-01]\n",
            " [2.99168083e-01]\n",
            " [2.42935343e-01]\n",
            " [1.39087437e-02]\n",
            " [7.87645308e-01]\n",
            " [1.16167285e-01]\n",
            " [6.31660956e-01]\n",
            " [4.78289306e-01]\n",
            " [9.50410621e-01]\n",
            " [1.44039735e-01]\n",
            " [2.15946170e-01]\n",
            " [2.00519535e-01]\n",
            " [8.83717684e-01]\n",
            " [5.01333432e-01]\n",
            " [4.81614878e-02]\n",
            " [8.87873422e-01]\n",
            " [5.84874734e-01]\n",
            " [4.53166631e-02]\n",
            " [5.19467558e-01]\n",
            " [8.42405862e-01]\n",
            " [2.27465333e-01]\n",
            " [7.56351037e-01]\n",
            " [1.46820356e-01]\n",
            " [2.16707777e-02]\n",
            " [4.97189018e-01]\n",
            " [3.78170932e-01]\n",
            " [6.07185680e-01]\n",
            " [6.27998479e-01]\n",
            " [3.72098906e-01]\n",
            " [3.36958592e-02]\n",
            " [9.90245795e-01]\n",
            " [2.39469180e-01]\n",
            " [5.85213387e-01]\n",
            " [1.53358025e-01]\n",
            " [8.24880546e-02]\n",
            " [4.41604896e-02]\n",
            " [7.36798063e-01]\n",
            " [4.64159403e-01]\n",
            " [4.53478877e-01]\n",
            " [5.15488408e-01]\n",
            " [2.30172589e-01]\n",
            " [5.13420973e-01]\n",
            " [1.94210508e-01]\n",
            " [6.64936620e-01]\n",
            " [4.63037390e-01]\n",
            " [6.23700533e-01]\n",
            " [5.17000608e-01]\n",
            " [9.67355217e-01]\n",
            " [2.68635271e-01]\n",
            " [8.97600815e-01]\n",
            " [7.82293406e-01]\n",
            " [9.66943467e-01]\n",
            " [2.91943825e-01]\n",
            " [7.57131040e-01]\n",
            " [5.09264961e-02]\n",
            " [5.59763314e-01]\n",
            " [7.56443544e-01]\n",
            " [4.22371586e-01]\n",
            " [8.96045515e-01]\n",
            " [2.48009183e-01]\n",
            " [5.93583964e-01]\n",
            " [4.83337375e-01]\n",
            " [6.42731961e-01]\n",
            " [8.55079689e-01]\n",
            " [6.96118183e-01]\n",
            " [8.21800621e-01]\n",
            " [8.77538622e-01]\n",
            " [9.36645716e-01]\n",
            " [4.20241816e-01]\n",
            " [5.16085697e-01]\n",
            " [4.34655503e-01]\n",
            " [6.84466474e-01]\n",
            " [8.34049064e-01]\n",
            " [7.37528950e-02]\n",
            " [8.63894025e-01]\n",
            " [7.03153158e-01]\n",
            " [6.13025200e-01]\n",
            " [5.56525374e-01]\n",
            " [9.09702413e-01]\n",
            " [4.03632067e-01]\n",
            " [2.98374163e-02]\n",
            " [5.25189349e-01]\n",
            " [7.98823334e-01]\n",
            " [8.03784564e-01]\n",
            " [3.69796156e-01]\n",
            " [4.00400327e-01]\n",
            " [9.23670944e-03]\n",
            " [6.21834612e-01]\n",
            " [6.74528435e-01]\n",
            " [7.45411354e-01]\n",
            " [7.26181560e-01]\n",
            " [2.61797902e-01]\n",
            " [4.97220828e-01]\n",
            " [6.24032773e-01]\n",
            " [4.35428252e-02]\n",
            " [3.86555814e-01]\n",
            " [6.82208500e-01]\n",
            " [1.11685068e-01]\n",
            " [5.15341165e-01]\n",
            " [1.65001699e-01]\n",
            " [1.11507992e-01]\n",
            " [7.88277248e-01]\n",
            " [1.48163075e-01]\n",
            " [4.18894086e-01]\n",
            " [1.92190562e-02]\n",
            " [8.46257105e-01]\n",
            " [7.17469444e-02]\n",
            " [4.45635714e-01]\n",
            " [8.34534653e-01]\n",
            " [9.43927528e-01]\n",
            " [3.78584011e-01]\n",
            " [1.61868504e-01]\n",
            " [3.78803170e-01]\n",
            " [3.95815020e-01]\n",
            " [8.16067477e-01]\n",
            " [7.11685710e-01]\n",
            " [7.63887773e-01]\n",
            " [9.04637709e-01]\n",
            " [8.18974839e-01]\n",
            " [7.70680225e-01]\n",
            " [2.84160646e-01]\n",
            " [7.19693666e-01]\n",
            " [4.26476008e-01]\n",
            " [5.91338831e-01]\n",
            " [5.98449978e-02]\n",
            " [8.98082618e-01]\n",
            " [5.19690158e-01]\n",
            " [1.05552773e-01]\n",
            " [4.79440822e-01]\n",
            " [2.55075247e-01]\n",
            " [6.47863609e-02]\n",
            " [6.52368024e-01]\n",
            " [5.48206932e-01]\n",
            " [1.09523987e-01]\n",
            " [4.74538663e-01]\n",
            " [7.22827766e-01]\n",
            " [6.50531897e-01]\n",
            " [3.21306710e-02]\n",
            " [5.34833177e-01]\n",
            " [9.57213484e-01]\n",
            " [6.28715070e-01]\n",
            " [6.79807978e-01]\n",
            " [8.29305652e-01]\n",
            " [1.70354787e-01]\n",
            " [2.09624983e-01]\n",
            " [6.28176517e-01]\n",
            " [8.42713264e-01]\n",
            " [2.02965623e-01]\n",
            " [7.76498237e-01]\n",
            " [1.18720332e-01]\n",
            " [5.52348299e-01]\n",
            " [7.47946397e-01]\n",
            " [9.26656228e-01]\n",
            " [6.67711590e-01]\n",
            " [5.47887840e-01]\n",
            " [1.60193010e-01]\n",
            " [5.53514377e-01]\n",
            " [4.77749032e-01]\n",
            " [2.53978144e-01]\n",
            " [8.03295155e-01]\n",
            " [5.23270380e-01]\n",
            " [6.20613643e-01]\n",
            " [9.95022855e-01]\n",
            " [1.15589948e-01]\n",
            " [1.44845545e-01]\n",
            " [5.20592164e-01]\n",
            " [5.20110390e-01]\n",
            " [4.17649758e-01]\n",
            " [3.41789153e-01]\n",
            " [3.00055452e-01]\n",
            " [8.80923746e-01]\n",
            " [4.28088335e-01]\n",
            " [8.24028316e-01]\n",
            " [3.75979715e-01]\n",
            " [4.03331784e-01]\n",
            " [3.12855292e-01]\n",
            " [6.83304456e-01]\n",
            " [8.44979982e-01]\n",
            " [8.64796623e-01]\n",
            " [3.55134562e-01]\n",
            " [4.72352475e-01]\n",
            " [9.50147766e-01]\n",
            " [9.53598067e-01]\n",
            " [7.71628823e-01]\n",
            " [9.80769572e-01]\n",
            " [4.95105500e-01]\n",
            " [8.75884017e-01]\n",
            " [7.05441203e-01]\n",
            " [2.48168302e-01]\n",
            " [5.50331987e-01]\n",
            " [9.18810772e-01]\n",
            " [7.42666957e-01]\n",
            " [2.39387643e-01]\n",
            " [7.42191244e-01]]\n"
          ]
        }
      ]
    },
    {
      "cell_type": "code",
      "source": [
        "#here the first step is divide the data into two parts\n",
        "#selected attributes are stored in scaler\n",
        "#traget attributes are stored in scaled price"
      ],
      "metadata": {
        "id": "jQalKAhQ2cnw"
      },
      "execution_count": null,
      "outputs": []
    },
    {
      "cell_type": "code",
      "source": [
        "#now split thescaler data into two parts scalertrain,scaler test\n",
        "#similarly scaled prices also split into two parts scaledpricedtest and train\n",
        "\n"
      ],
      "metadata": {
        "id": "YNRQ4tgw2xDU"
      },
      "execution_count": null,
      "outputs": []
    },
    {
      "cell_type": "code",
      "source": [
        "train_size=int(len(scaled_prices)*0.8)\n",
        "test_size=len(scaled_prices)-train_size\n",
        "train_data,test_data=scaled_prices[0:train_size,:],scaled_prices[train_size:len(scaled_prices), :]"
      ],
      "metadata": {
        "id": "IHgMPUCr3IRd"
      },
      "execution_count": 25,
      "outputs": []
    },
    {
      "cell_type": "code",
      "source": [
        "#function to create the lstm\n",
        "def create_sequence(data,seq_length):\n",
        "  x=[]\n",
        "  y=[]\n",
        "  for i in range(len(data)-seq_length):\n",
        "    x.append(data[i:i+seq_length,0])\n",
        "    y.append(data[i+seq_length,0])\n",
        "    return np.array(x),np.array(y)\n",
        ""
      ],
      "metadata": {
        "id": "zNbmAXg338NY"
      },
      "execution_count": 28,
      "outputs": []
    },
    {
      "cell_type": "code",
      "source": [
        "sequence_length=60\n",
        "#now create training and tsting\n",
        "x_train,y_train=create_sequence(train_data,60)\n",
        "x_test,y_test=create_sequence(test_data,60)\n",
        "print(\"x_train data\",x_train)\n",
        "print(\"y_train data\",y_train)\n",
        "print(\"x_test data\",x_test)\n",
        "print(\"y_test data\",y_test)"
      ],
      "metadata": {
        "colab": {
          "base_uri": "https://localhost:8080/"
        },
        "id": "FY5sUT1O40G0",
        "outputId": "b97ae0e3-3b87-4232-c3ba-842bb493027d"
      },
      "execution_count": 30,
      "outputs": [
        {
          "output_type": "stream",
          "name": "stdout",
          "text": [
            "x_train data [[4.80617626e-01 2.73820770e-01 7.12516081e-01 5.61921001e-01\n",
            "  6.87636327e-01 4.08699893e-01 4.81744634e-01 4.18232032e-01\n",
            "  7.62752919e-02 9.35803187e-02 5.19274642e-01 5.03944694e-01\n",
            "  8.45704046e-01 3.90216953e-01 1.00000000e+00 2.91097696e-01\n",
            "  4.83093025e-01 3.99551057e-01 7.70589581e-01 7.80817075e-01\n",
            "  6.17993872e-02 2.80925724e-01 9.27277084e-01 4.39961050e-01\n",
            "  4.18192520e-01 9.75696335e-01 2.18258916e-02 2.55334147e-01\n",
            "  1.43248530e-02 3.42487566e-01 9.80708304e-01 9.75961447e-01\n",
            "  2.66918979e-01 2.83423123e-01 4.49590826e-01 2.51879081e-01\n",
            "  6.21320287e-01 9.46128890e-01 6.65710582e-01 6.42952362e-01\n",
            "  3.73059794e-01 6.43399216e-01 3.20741377e-01 5.68018641e-01\n",
            "  3.42665958e-04 6.73903309e-01 7.31093718e-01 9.00002921e-01\n",
            "  4.13283473e-01 8.50733769e-01 9.57186051e-02 3.91194842e-01\n",
            "  4.05727138e-03 2.87158270e-01 5.17027256e-01 2.16559041e-01\n",
            "  2.92634329e-01 7.14344000e-01 2.76410467e-01 1.76512383e-01]]\n",
            "y_train data [0.96343999]\n",
            "x_test data [[0.71969367 0.42647601 0.59133883 0.059845   0.89808262 0.51969016\n",
            "  0.10555277 0.47944082 0.25507525 0.06478636 0.65236802 0.54820693\n",
            "  0.10952399 0.47453866 0.72282777 0.6505319  0.03213067 0.53483318\n",
            "  0.95721348 0.62871507 0.67980798 0.82930565 0.17035479 0.20962498\n",
            "  0.62817652 0.84271326 0.20296562 0.77649824 0.11872033 0.5523483\n",
            "  0.7479464  0.92665623 0.66771159 0.54788784 0.16019301 0.55351438\n",
            "  0.47774903 0.25397814 0.80329515 0.52327038 0.62061364 0.99502286\n",
            "  0.11558995 0.14484555 0.52059216 0.52011039 0.41764976 0.34178915\n",
            "  0.30005545 0.88092375 0.42808833 0.82402832 0.37597971 0.40333178\n",
            "  0.31285529 0.68330446 0.84497998 0.86479662 0.35513456 0.47235247]]\n",
            "y_test data [0.95014777]\n"
          ]
        }
      ]
    },
    {
      "cell_type": "code",
      "source": [
        "#now reshsape xTrain,xtest\n",
        "model=Sequential()\n",
        "model.add(LSTM(units=50,return_sequences=True, input_shape=(sequence_length,1)))\n",
        "model.add(Dropout(0.2))\n",
        "model.add(LSTM(units=50,return_sequences=False))\n",
        "model.add(Dropout(0.2))\n",
        "model.add(Dense(units=1))\n"
      ],
      "metadata": {
        "id": "0asfWyut5Pr_"
      },
      "execution_count": 33,
      "outputs": []
    },
    {
      "cell_type": "code",
      "source": [
        "#now check he model\n",
        "model.compile(optimizer=\"adam\",loss=\"accuracy_score\")"
      ],
      "metadata": {
        "id": "mix4lZep69KW"
      },
      "execution_count": 34,
      "outputs": []
    },
    {
      "cell_type": "code",
      "source": [
        "x_train = x_train.astype('float32')\n",
        "y_train = y_train.astype('float32')"
      ],
      "metadata": {
        "id": "CImIh-Hb8nqX"
      },
      "execution_count": 37,
      "outputs": []
    },
    {
      "cell_type": "code",
      "source": [
        "#model.fit(x_train, y_train, epochs=10, batch_size=32)\n"
      ],
      "metadata": {
        "id": "USVNvCoI8D0H"
      },
      "execution_count": 43,
      "outputs": []
    },
    {
      "cell_type": "code",
      "source": [
        "predictions=model.predict(x_test)\n",
        "predictions=scaler.inverse_transform(predictions)"
      ],
      "metadata": {
        "colab": {
          "base_uri": "https://localhost:8080/"
        },
        "id": "qqsLssbk8yKa",
        "outputId": "0b8e71b5-3a02-4c48-9ee6-c667b9136a12"
      },
      "execution_count": 44,
      "outputs": [
        {
          "output_type": "stream",
          "name": "stdout",
          "text": [
            "1/1 [==============================] - 0s 18ms/step\n"
          ]
        }
      ]
    },
    {
      "cell_type": "code",
      "source": [
        "#now plot the graph\n",
        "plt.plot(prices[train_size+sequence_length:],color=\"blue\",label=\"actualpage\")\n",
        "plt.plot(predictions,color='red',label=\"predicted price\")\n",
        "plt.xlabel(\"time\")\n",
        "plt.ylabel(\"stock price\")\n",
        "plt.title(\"stock price prediction\")\n",
        "plt.show()"
      ],
      "metadata": {
        "colab": {
          "base_uri": "https://localhost:8080/",
          "height": 472
        },
        "id": "cRNutWMz9JH3",
        "outputId": "595914dc-5468-4b58-8b86-6e0b336866e5"
      },
      "execution_count": 45,
      "outputs": [
        {
          "output_type": "display_data",
          "data": {
            "text/plain": [
              "<Figure size 640x480 with 1 Axes>"
            ],
            "image/png": "[encoded data removed]"
          },
          "metadata": {}
        }
      ]
    }
  ]
}